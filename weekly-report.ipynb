{
 "cells": [
  {
   "cell_type": "code",
   "execution_count": 51,
   "metadata": {},
   "outputs": [],
   "source": [
    "import psycopg\n",
    "import pandas as pd\n",
    "import sys\n",
    "import numpy as np\n",
    "import csv\n",
    "import matplotlib.pyplot as plt\n",
    "import geopandas\n",
    "import plotly.figure_factory as ff\n",
    "import credentials"
   ]
  },
  {
   "cell_type": "code",
   "execution_count": 52,
   "metadata": {},
   "outputs": [
    {
     "data": {
      "text/html": [
       " <style>\n",
       ".output_png {\n",
       "    display: table-cell;\n",
       "    text-align: center;\n",
       "    vertical-align: middle;\n",
       "}\n",
       "</style> "
      ],
      "text/plain": [
       "<IPython.core.display.HTML object>"
      ]
     },
     "execution_count": 52,
     "metadata": {},
     "output_type": "execute_result"
    }
   ],
   "source": [
    "from IPython.core.display import HTML as Center\n",
    "\n",
    "Center(\"\"\" <style>\n",
    ".output_png {\n",
    "    display: table-cell;\n",
    "    text-align: center;\n",
    "    vertical-align: middle;\n",
    "}\n",
    "</style> \"\"\")"
   ]
  },
  {
   "cell_type": "markdown",
   "metadata": {},
   "source": [
    "## The Report About Hospital Information For This Week "
   ]
  },
  {
   "cell_type": "code",
   "execution_count": 53,
   "metadata": {},
   "outputs": [],
   "source": [
    "import warnings\n",
    "warnings.filterwarnings('ignore')"
   ]
  },
  {
   "cell_type": "code",
   "execution_count": 54,
   "metadata": {
    "tags": [
     "parameters"
    ]
   },
   "outputs": [],
   "source": [
    "week2 = '2022-10-21'"
   ]
  },
  {
   "cell_type": "markdown",
   "metadata": {},
   "source": [
    "**1. Summary of how many hospital records were loaded in the most recent week, and how that compares to previous weeks.**"
   ]
  },
  {
   "cell_type": "code",
   "execution_count": 55,
   "metadata": {},
   "outputs": [
    {
     "name": "stdout",
     "output_type": "stream",
     "text": [
      "4985 hospital records were loaded in the most recent week.\n",
      "4995 hospital records were loaded in 2022-10-14 week. Compared with 2022-10-14 week, the number of records loaded this week is 10 less.\n",
      "4996 hospital records were loaded in 2022-10-07 week. Compared with 2022-10-07 week, the number of records loaded this week is 11 less.\n",
      "4997 hospital records were loaded in 2022-09-30 week. Compared with 2022-09-30 week, the number of records loaded this week is 12 less.\n",
      "4996 hospital records were loaded in 2022-09-23 week. Compared with 2022-09-23 week, the number of records loaded this week is 11 less.\n"
     ]
    }
   ],
   "source": [
    "conn = psycopg.connect(\n",
    "        host=\"sculptor.stat.cmu.edu\", dbname=credentials.DB_USER,\n",
    "        user=credentials.DB_USER, password=credentials.DB_PASSWORD\"\n",
    "    )\n",
    "\n",
    "cur = conn.cursor()\n",
    "cur.execute(\"SELECT collection_week, COUNT(collection_week) FROM Weekly_capacity_inform \"\n",
    "\"WHERE collection_week <= %(week)s \"\n",
    "\"GROUP BY collection_week \"\n",
    "\"ORDER BY collection_week desc;\", {\"week\": week2})\n",
    "rows = cur.fetchall()\n",
    "print(rows[0][1], \"hospital records were loaded in the most recent week.\")\n",
    "for i in range(1,len(rows)):\n",
    "    if rows[i][1] < rows[0][1]:\n",
    "        print(rows[i][1], \"hospital records were loaded in\",rows[i][0],\"week. \"\n",
    "    \"Compared with\",rows[i][0], \"week, the number of records loaded this week is\",\n",
    "    rows[0][1]-rows[i][1],\"more.\")\n",
    "    if rows[i][1] == rows[0][1]:\n",
    "        print(rows[i][1], \"hospital records were loaded in\",rows[i][0],\"week. \"\n",
    "    \"Compared with\",rows[i][0], \"week, the number of records loaded this week is the same.\")\n",
    "    if rows[i][1] > rows[0][1]:\n",
    "        print(rows[i][1], \"hospital records were loaded in\",rows[i][0],\"week. \"\n",
    "    \"Compared with\",rows[i][0], \"week, the number of records loaded this week is\",\n",
    "    rows[i][1]-rows[0][1],\"less.\")\n"
   ]
  },
  {
   "cell_type": "markdown",
   "metadata": {},
   "source": [
    "**2. Table summarizing the number of adult and pediatric beds available this week, the number used, and the number used by patients with COVID, compared to the 4 most recent weeks.**"
   ]
  },
  {
   "cell_type": "code",
   "execution_count": 56,
   "metadata": {},
   "outputs": [],
   "source": [
    "from tabulate import tabulate\n",
    "conn = psycopg.connect(\n",
    "        host=\"sculptor.stat.cmu.edu\", dbname=credentials.DB_USER,\n",
    "        user=credentials.DB_USER, password=credentials.DB_PASSWORD\"\n",
    "    )\n",
    "\n",
    "cur = conn.cursor()\n",
    "cur.execute(\"SELECT collection_week, sum(all_adult_hospital_beds_7_day_avg), \"\n",
    "\"sum(all_pediatric_inpatient_beds_7_day_avg), \"\n",
    "\"sum(all_adult_hospital_inpatient_bed_occupied_7_day_coverage), \"\n",
    "\"sum(all_pediatric_inpatient_bed_occupied_7_day_avg), \"\n",
    "\"sum(inpatient_beds_used_covid_7_day_avg) \"\n",
    "\"FROM Weekly_capacity_inform \"\n",
    "\"WHERE collection_week <= %(week)s \"\n",
    "\"and collection_week >= (%(week)s - 4 * integer '7') \"\n",
    "\"GROUP BY collection_week \"\n",
    "\"ORDER BY collection_week desc\", {\"week\": week2})\n",
    "rows = cur.fetchall()\n",
    "my_table = pd.DataFrame(rows)"
   ]
  },
  {
   "cell_type": "code",
   "execution_count": 57,
   "metadata": {},
   "outputs": [],
   "source": [
    "my_table = my_table.rename(columns = {0: 'collection week', 1: 'adult beds available',\n",
    "2: 'pediatric beds available', 3: 'adult beds used', 4: 'pediatric beds used', \n",
    "5: 'the number used by patients with COVID'})\n",
    "my_table.insert(loc=2,\n",
    "          column = 'difference between adult beds available',\n",
    "          value = my_table.iloc[0,1]- my_table.iloc[:,1])\n",
    "my_table.insert(loc=4,\n",
    "          column = 'difference between pediatric beds available',\n",
    "          value = my_table.iloc[0,3]- my_table.iloc[:,3])\n",
    "my_table.insert(loc=6,\n",
    "          column = 'difference between adult beds used',\n",
    "          value = my_table.iloc[0,5]- my_table.iloc[:,5]) \n",
    "my_table.insert(loc=8,\n",
    "          column = 'difference between pediatric beds used',\n",
    "          value = my_table.iloc[0,7]- my_table.iloc[:,7])\n",
    "my_table.insert(loc=10,\n",
    "          column = 'difference between the number used by patients with COVID',\n",
    "          value = my_table.iloc[0,9]- my_table.iloc[:,9])  "
   ]
  },
  {
   "cell_type": "code",
   "execution_count": 58,
   "metadata": {},
   "outputs": [
    {
     "data": {
      "text/html": [
       "<div>\n",
       "<style scoped>\n",
       "    .dataframe tbody tr th:only-of-type {\n",
       "        vertical-align: middle;\n",
       "    }\n",
       "\n",
       "    .dataframe tbody tr th {\n",
       "        vertical-align: top;\n",
       "    }\n",
       "\n",
       "    .dataframe thead th {\n",
       "        text-align: right;\n",
       "    }\n",
       "</style>\n",
       "<table border=\"1\" class=\"dataframe\">\n",
       "  <thead>\n",
       "    <tr style=\"text-align: right;\">\n",
       "      <th></th>\n",
       "      <th>collection week</th>\n",
       "      <th>adult beds available</th>\n",
       "      <th>difference between adult beds available</th>\n",
       "      <th>pediatric beds available</th>\n",
       "      <th>difference between pediatric beds available</th>\n",
       "      <th>adult beds used</th>\n",
       "      <th>difference between adult beds used</th>\n",
       "      <th>pediatric beds used</th>\n",
       "      <th>difference between pediatric beds used</th>\n",
       "      <th>the number used by patients with COVID</th>\n",
       "      <th>difference between the number used by patients with COVID</th>\n",
       "    </tr>\n",
       "  </thead>\n",
       "  <tbody>\n",
       "    <tr>\n",
       "      <th>0</th>\n",
       "      <td>2022-10-21</td>\n",
       "      <td>414880.3</td>\n",
       "      <td>0.0</td>\n",
       "      <td>39882.2</td>\n",
       "      <td>0.0</td>\n",
       "      <td>34376</td>\n",
       "      <td>0</td>\n",
       "      <td>29706.5</td>\n",
       "      <td>0.0</td>\n",
       "      <td>24116.8</td>\n",
       "      <td>0.0</td>\n",
       "    </tr>\n",
       "    <tr>\n",
       "      <th>1</th>\n",
       "      <td>2022-10-14</td>\n",
       "      <td>412939.0</td>\n",
       "      <td>1941.3</td>\n",
       "      <td>39711.6</td>\n",
       "      <td>170.6</td>\n",
       "      <td>34841</td>\n",
       "      <td>-465</td>\n",
       "      <td>28799.0</td>\n",
       "      <td>907.5</td>\n",
       "      <td>23695.5</td>\n",
       "      <td>421.3</td>\n",
       "    </tr>\n",
       "    <tr>\n",
       "      <th>2</th>\n",
       "      <td>2022-10-07</td>\n",
       "      <td>415465.4</td>\n",
       "      <td>-585.1</td>\n",
       "      <td>39796.8</td>\n",
       "      <td>85.4</td>\n",
       "      <td>34886</td>\n",
       "      <td>-510</td>\n",
       "      <td>28285.8</td>\n",
       "      <td>1420.7</td>\n",
       "      <td>23689.3</td>\n",
       "      <td>427.5</td>\n",
       "    </tr>\n",
       "    <tr>\n",
       "      <th>3</th>\n",
       "      <td>2022-09-30</td>\n",
       "      <td>416279.4</td>\n",
       "      <td>-1399.1</td>\n",
       "      <td>39804.7</td>\n",
       "      <td>77.5</td>\n",
       "      <td>34852</td>\n",
       "      <td>-476</td>\n",
       "      <td>28042.8</td>\n",
       "      <td>1663.7</td>\n",
       "      <td>24142.5</td>\n",
       "      <td>-25.7</td>\n",
       "    </tr>\n",
       "    <tr>\n",
       "      <th>4</th>\n",
       "      <td>2022-09-23</td>\n",
       "      <td>413589.5</td>\n",
       "      <td>1290.8</td>\n",
       "      <td>39605.5</td>\n",
       "      <td>276.7</td>\n",
       "      <td>34832</td>\n",
       "      <td>-456</td>\n",
       "      <td>27778.1</td>\n",
       "      <td>1928.4</td>\n",
       "      <td>25600.6</td>\n",
       "      <td>-1483.8</td>\n",
       "    </tr>\n",
       "  </tbody>\n",
       "</table>\n",
       "</div>"
      ],
      "text/plain": [
       "  collection week adult beds available  \\\n",
       "0      2022-10-21             414880.3   \n",
       "1      2022-10-14             412939.0   \n",
       "2      2022-10-07             415465.4   \n",
       "3      2022-09-30             416279.4   \n",
       "4      2022-09-23             413589.5   \n",
       "\n",
       "  difference between adult beds available pediatric beds available  \\\n",
       "0                                     0.0                  39882.2   \n",
       "1                                  1941.3                  39711.6   \n",
       "2                                  -585.1                  39796.8   \n",
       "3                                 -1399.1                  39804.7   \n",
       "4                                  1290.8                  39605.5   \n",
       "\n",
       "  difference between pediatric beds available adult beds used  \\\n",
       "0                                         0.0           34376   \n",
       "1                                       170.6           34841   \n",
       "2                                        85.4           34886   \n",
       "3                                        77.5           34852   \n",
       "4                                       276.7           34832   \n",
       "\n",
       "  difference between adult beds used pediatric beds used  \\\n",
       "0                                  0             29706.5   \n",
       "1                               -465             28799.0   \n",
       "2                               -510             28285.8   \n",
       "3                               -476             28042.8   \n",
       "4                               -456             27778.1   \n",
       "\n",
       "  difference between pediatric beds used  \\\n",
       "0                                    0.0   \n",
       "1                                  907.5   \n",
       "2                                 1420.7   \n",
       "3                                 1663.7   \n",
       "4                                 1928.4   \n",
       "\n",
       "  the number used by patients with COVID  \\\n",
       "0                                24116.8   \n",
       "1                                23695.5   \n",
       "2                                23689.3   \n",
       "3                                24142.5   \n",
       "4                                25600.6   \n",
       "\n",
       "  difference between the number used by patients with COVID  \n",
       "0                                                0.0         \n",
       "1                                              421.3         \n",
       "2                                              427.5         \n",
       "3                                              -25.7         \n",
       "4                                            -1483.8         "
      ]
     },
     "execution_count": 58,
     "metadata": {},
     "output_type": "execute_result"
    }
   ],
   "source": [
    "my_table.style.set_properties(my_table[\"collection week\"], **{'width': '300px', 'text-align':'center'})\n",
    "my_table"
   ]
  },
  {
   "cell_type": "markdown",
   "metadata": {},
   "source": [
    "**3. A table summarizing the fraction of beds currently in use by hospital quality rating, so we can compare high-quality and low-quality hospitals.**"
   ]
  },
  {
   "cell_type": "code",
   "execution_count": 59,
   "metadata": {},
   "outputs": [
    {
     "data": {
      "text/html": [
       "<div>\n",
       "<style scoped>\n",
       "    .dataframe tbody tr th:only-of-type {\n",
       "        vertical-align: middle;\n",
       "    }\n",
       "\n",
       "    .dataframe tbody tr th {\n",
       "        vertical-align: top;\n",
       "    }\n",
       "\n",
       "    .dataframe thead th {\n",
       "        text-align: right;\n",
       "    }\n",
       "</style>\n",
       "<table border=\"1\" class=\"dataframe\">\n",
       "  <thead>\n",
       "    <tr style=\"text-align: right;\">\n",
       "      <th></th>\n",
       "      <th>hospital_overall_rating</th>\n",
       "      <th>adult_beds_occupied_fraction</th>\n",
       "      <th>pediatric_beds_occupied_fraction</th>\n",
       "      <th>all_beds_occupied_fraction</th>\n",
       "    </tr>\n",
       "  </thead>\n",
       "  <tbody>\n",
       "    <tr>\n",
       "      <th>1</th>\n",
       "      <td>5.0</td>\n",
       "      <td>0.037422</td>\n",
       "      <td>0.576340</td>\n",
       "      <td>0.068946</td>\n",
       "    </tr>\n",
       "    <tr>\n",
       "      <th>2</th>\n",
       "      <td>4.0</td>\n",
       "      <td>0.033346</td>\n",
       "      <td>0.655894</td>\n",
       "      <td>0.079387</td>\n",
       "    </tr>\n",
       "    <tr>\n",
       "      <th>3</th>\n",
       "      <td>3.0</td>\n",
       "      <td>0.035358</td>\n",
       "      <td>0.618320</td>\n",
       "      <td>0.074545</td>\n",
       "    </tr>\n",
       "    <tr>\n",
       "      <th>4</th>\n",
       "      <td>2.0</td>\n",
       "      <td>0.031635</td>\n",
       "      <td>0.608289</td>\n",
       "      <td>0.067012</td>\n",
       "    </tr>\n",
       "    <tr>\n",
       "      <th>5</th>\n",
       "      <td>1.0</td>\n",
       "      <td>0.026576</td>\n",
       "      <td>0.580410</td>\n",
       "      <td>0.063862</td>\n",
       "    </tr>\n",
       "  </tbody>\n",
       "</table>\n",
       "</div>"
      ],
      "text/plain": [
       "   hospital_overall_rating  adult_beds_occupied_fraction  \\\n",
       "1                      5.0                      0.037422   \n",
       "2                      4.0                      0.033346   \n",
       "3                      3.0                      0.035358   \n",
       "4                      2.0                      0.031635   \n",
       "5                      1.0                      0.026576   \n",
       "\n",
       "   pediatric_beds_occupied_fraction  all_beds_occupied_fraction  \n",
       "1                          0.576340                    0.068946  \n",
       "2                          0.655894                    0.079387  \n",
       "3                          0.618320                    0.074545  \n",
       "4                          0.608289                    0.067012  \n",
       "5                          0.580410                    0.063862  "
      ]
     },
     "execution_count": 59,
     "metadata": {},
     "output_type": "execute_result"
    }
   ],
   "source": [
    "conn = psycopg.connect(\n",
    "        host=\"sculptor.stat.cmu.edu\", dbname=credentials.DB_USER,\n",
    "        user=credentials.DB_USER, password=credentials.DB_PASSWORD\"\n",
    "    )\n",
    "\n",
    "cur = conn.cursor()\n",
    "'''cur.execute(\"SELECT quality_rating.hospital_overall_rating, \"\n",
    "            \"AVG(weekly_capacity_inform.all_adult_hospital_inpatient_bed_occupied_7_day_coverage), \"\n",
    "            \"AVG(weekly_capacity_inform.all_pediatric_inpatient_bed_occupied_7_day_avg), \"\n",
    "            \"AVG(weekly_capacity_inform.all_adult_hospital_inpatient_bed_occupied_7_day_coverage \"\n",
    "            \"+ weekly_capacity_inform.all_pediatric_inpatient_bed_occupied_7_day_avg) \"\n",
    "            \"FROM weekly_capacity_inform \"\n",
    "            \"JOIN quality_rating on weekly_capacity_inform.hospital_pk = quality_rating.facility_ID \"\n",
    "            \"GROUP BY quality_rating.hospital_overall_rating \"\n",
    "            \"ORDER BY quality_rating.hospital_overall_rating desc\")'''\n",
    "\n",
    "my_table_3 = pd.read_sql_query(\"SELECT quality_rating.hospital_overall_rating, \"\n",
    "            \"AVG(weekly_capacity_inform.all_adult_hospital_inpatient_bed_occupied_7_day_coverage / \"\n",
    "            \"weekly_capacity_inform.all_adult_hospital_beds_7_day_avg) AS adult_beds_occupied_fraction, \"\n",
    "            \"AVG(weekly_capacity_inform.all_pediatric_inpatient_bed_occupied_7_day_avg / \"\n",
    "            \"weekly_capacity_inform.all_pediatric_inpatient_beds_7_day_avg) AS pediatric_beds_occupied_fraction, \"\n",
    "            \"AVG((weekly_capacity_inform.all_adult_hospital_inpatient_bed_occupied_7_day_coverage \"\n",
    "            \"+ weekly_capacity_inform.all_pediatric_inpatient_bed_occupied_7_day_avg) / \"\n",
    "            \"(weekly_capacity_inform.all_adult_hospital_beds_7_day_avg + weekly_capacity_inform.all_pediatric_inpatient_beds_7_day_avg))\"\n",
    "            \"AS all_beds_occupied_fraction \"\n",
    "            \"FROM weekly_capacity_inform \"\n",
    "            \"JOIN quality_rating on weekly_capacity_inform.hospital_pk = quality_rating.facility_ID \"\n",
    "            \"AND weekly_capacity_inform.all_adult_hospital_inpatient_bed_occupied_7_day_coverage IS NOT NULL \"\n",
    "            \"AND weekly_capacity_inform.all_adult_hospital_beds_7_day_avg > 0 \"\n",
    "            \"AND weekly_capacity_inform.all_pediatric_inpatient_beds_7_day_avg > 0 \"\n",
    "            \"GROUP BY quality_rating.hospital_overall_rating \"\n",
    "            \"ORDER BY quality_rating.hospital_overall_rating desc\", conn)\n",
    "my_table_3 = my_table_3.drop(0)\n",
    "my_table_3"
   ]
  },
  {
   "cell_type": "markdown",
   "metadata": {},
   "source": [
    "**4. Plot of the total number of hospital beds used per week, over all time, split into all cases and COVID cases.**"
   ]
  },
  {
   "cell_type": "markdown",
   "metadata": {},
   "source": [
    "* **The table containing specific total number of hospital beds used per week, over all time, split into all cases and COVID cases.**"
   ]
  },
  {
   "cell_type": "code",
   "execution_count": 60,
   "metadata": {},
   "outputs": [
    {
     "data": {
      "text/html": [
       "<div>\n",
       "<style scoped>\n",
       "    .dataframe tbody tr th:only-of-type {\n",
       "        vertical-align: middle;\n",
       "    }\n",
       "\n",
       "    .dataframe tbody tr th {\n",
       "        vertical-align: top;\n",
       "    }\n",
       "\n",
       "    .dataframe thead th {\n",
       "        text-align: right;\n",
       "    }\n",
       "</style>\n",
       "<table border=\"1\" class=\"dataframe\">\n",
       "  <thead>\n",
       "    <tr style=\"text-align: right;\">\n",
       "      <th></th>\n",
       "      <th>collection_week</th>\n",
       "      <th>all_cases_beds_used_per_week</th>\n",
       "      <th>covid_cases_beds_used_per_week</th>\n",
       "    </tr>\n",
       "  </thead>\n",
       "  <tbody>\n",
       "    <tr>\n",
       "      <th>0</th>\n",
       "      <td>2022-10-21</td>\n",
       "      <td>59729.5</td>\n",
       "      <td>24116.8</td>\n",
       "    </tr>\n",
       "    <tr>\n",
       "      <th>1</th>\n",
       "      <td>2022-10-14</td>\n",
       "      <td>59325.0</td>\n",
       "      <td>23695.5</td>\n",
       "    </tr>\n",
       "    <tr>\n",
       "      <th>2</th>\n",
       "      <td>2022-10-07</td>\n",
       "      <td>58802.8</td>\n",
       "      <td>23689.3</td>\n",
       "    </tr>\n",
       "    <tr>\n",
       "      <th>3</th>\n",
       "      <td>2022-09-30</td>\n",
       "      <td>58581.8</td>\n",
       "      <td>24142.5</td>\n",
       "    </tr>\n",
       "    <tr>\n",
       "      <th>4</th>\n",
       "      <td>2022-09-23</td>\n",
       "      <td>58174.1</td>\n",
       "      <td>25600.6</td>\n",
       "    </tr>\n",
       "  </tbody>\n",
       "</table>\n",
       "</div>"
      ],
      "text/plain": [
       "  collection_week  all_cases_beds_used_per_week  \\\n",
       "0      2022-10-21                       59729.5   \n",
       "1      2022-10-14                       59325.0   \n",
       "2      2022-10-07                       58802.8   \n",
       "3      2022-09-30                       58581.8   \n",
       "4      2022-09-23                       58174.1   \n",
       "\n",
       "   covid_cases_beds_used_per_week  \n",
       "0                         24116.8  \n",
       "1                         23695.5  \n",
       "2                         23689.3  \n",
       "3                         24142.5  \n",
       "4                         25600.6  "
      ]
     },
     "metadata": {},
     "output_type": "display_data"
    }
   ],
   "source": [
    "import warnings\n",
    "warnings.filterwarnings('ignore')\n",
    "\n",
    "from IPython.display import display, HTML\n",
    "\n",
    "HTML(\"\"\"\n",
    "<style>\n",
    " {\n",
    "    display: table-cell;\n",
    "    text-align: center;\n",
    "   .output_png vertical-align: middle;\n",
    "}\n",
    "</style>\n",
    "\"\"\")\n",
    "\n",
    "conn = psycopg.connect(\n",
    "        host=\"sculptor.stat.cmu.edu\", dbname=credentials.DB_USER,\n",
    "        user=credentials.DB_USER, password=credentials.DB_PASSWORD\"\n",
    "    )\n",
    "\n",
    "cur = conn.cursor()\n",
    "cur = conn.execute(\"SELECT collection_week, \"\n",
    "                  \"SUM(all_adult_hospital_inpatient_bed_occupied_7_day_coverage \"\n",
    "                  \"+ all_pediatric_inpatient_bed_occupied_7_day_avg), \"\n",
    "                  \"SUM(inpatient_beds_used_covid_7_day_avg) FROM Weekly_capacity_inform \"\n",
    "                  \"WHERE collection_week <= %(week)s \"\n",
    "                  \"GROUP BY collection_week \"\n",
    "                  \"ORDER BY collection_week desc\", {'week': week2})\n",
    "rows = cur.fetchall()\n",
    "my_table_4 = pd.DataFrame(rows)\n",
    "my_table_4 = my_table_4.rename(columns = {0: \"collection_week\", 1:\"all_cases_beds_used_per_week\", 2:\"covid_cases_beds_used_per_week\"})\n",
    "my_table_4\n",
    "my_table_4['all_cases_beds_used_per_week'] = my_table_4['all_cases_beds_used_per_week'].astype(float)\n",
    "my_table_4['covid_cases_beds_used_per_week'] = my_table_4['covid_cases_beds_used_per_week'].astype(float)\n",
    "display(my_table_4)"
   ]
  },
  {
   "cell_type": "markdown",
   "metadata": {},
   "source": [
    "* **The plot**"
   ]
  },
  {
   "cell_type": "code",
   "execution_count": 61,
   "metadata": {},
   "outputs": [
    {
     "data": {
      "image/png": "[encoded data removed]",
      "text/plain": [
       "<Figure size 720x540 with 1 Axes>"
      ]
     },
     "metadata": {
      "needs_background": "light"
     },
     "output_type": "display_data"
    }
   ],
   "source": [
    "my_table_4.plot.barh(x= 'collection_week', figsize=(10, 7.5))\n",
    "plt.show()"
   ]
  },
  {
   "cell_type": "markdown",
   "metadata": {},
   "source": [
    "**5. A map showing the number of COVID cases by state.**"
   ]
  },
  {
   "cell_type": "markdown",
   "metadata": {},
   "source": [
    "* **The table containing specific number of COVID cases by state.**"
   ]
  },
  {
   "cell_type": "code",
   "execution_count": 62,
   "metadata": {},
   "outputs": [
    {
     "data": {
      "text/html": [
       "<div>\n",
       "<style scoped>\n",
       "    .dataframe tbody tr th:only-of-type {\n",
       "        vertical-align: middle;\n",
       "    }\n",
       "\n",
       "    .dataframe tbody tr th {\n",
       "        vertical-align: top;\n",
       "    }\n",
       "\n",
       "    .dataframe thead th {\n",
       "        text-align: right;\n",
       "    }\n",
       "</style>\n",
       "<table border=\"1\" class=\"dataframe\">\n",
       "  <thead>\n",
       "    <tr style=\"text-align: right;\">\n",
       "      <th></th>\n",
       "      <th>state_code</th>\n",
       "      <th>number of COVID cases</th>\n",
       "    </tr>\n",
       "  </thead>\n",
       "  <tbody>\n",
       "    <tr>\n",
       "      <th>0</th>\n",
       "      <td>CA</td>\n",
       "      <td>8996.6</td>\n",
       "    </tr>\n",
       "    <tr>\n",
       "      <th>1</th>\n",
       "      <td>NH</td>\n",
       "      <td>537.1</td>\n",
       "    </tr>\n",
       "    <tr>\n",
       "      <th>2</th>\n",
       "      <td>OR</td>\n",
       "      <td>1490.9</td>\n",
       "    </tr>\n",
       "    <tr>\n",
       "      <th>3</th>\n",
       "      <td>TX</td>\n",
       "      <td>7002.1</td>\n",
       "    </tr>\n",
       "    <tr>\n",
       "      <th>4</th>\n",
       "      <td>ND</td>\n",
       "      <td>246.7</td>\n",
       "    </tr>\n",
       "    <tr>\n",
       "      <th>5</th>\n",
       "      <td>PR</td>\n",
       "      <td>687.7</td>\n",
       "    </tr>\n",
       "    <tr>\n",
       "      <th>6</th>\n",
       "      <td>NV</td>\n",
       "      <td>549.7</td>\n",
       "    </tr>\n",
       "    <tr>\n",
       "      <th>7</th>\n",
       "      <td>OH</td>\n",
       "      <td>5179.4</td>\n",
       "    </tr>\n",
       "    <tr>\n",
       "      <th>8</th>\n",
       "      <td>KY</td>\n",
       "      <td>1703.4</td>\n",
       "    </tr>\n",
       "    <tr>\n",
       "      <th>9</th>\n",
       "      <td>GU</td>\n",
       "      <td>8.4</td>\n",
       "    </tr>\n",
       "    <tr>\n",
       "      <th>10</th>\n",
       "      <td>NY</td>\n",
       "      <td>13943.2</td>\n",
       "    </tr>\n",
       "    <tr>\n",
       "      <th>11</th>\n",
       "      <td>HI</td>\n",
       "      <td>346.4</td>\n",
       "    </tr>\n",
       "    <tr>\n",
       "      <th>12</th>\n",
       "      <td>NM</td>\n",
       "      <td>415.7</td>\n",
       "    </tr>\n",
       "    <tr>\n",
       "      <th>13</th>\n",
       "      <td>MS</td>\n",
       "      <td>498.7</td>\n",
       "    </tr>\n",
       "    <tr>\n",
       "      <th>14</th>\n",
       "      <td>IN</td>\n",
       "      <td>1416.1</td>\n",
       "    </tr>\n",
       "    <tr>\n",
       "      <th>15</th>\n",
       "      <td>DC</td>\n",
       "      <td>619.1</td>\n",
       "    </tr>\n",
       "    <tr>\n",
       "      <th>16</th>\n",
       "      <td>WV</td>\n",
       "      <td>839.6</td>\n",
       "    </tr>\n",
       "    <tr>\n",
       "      <th>17</th>\n",
       "      <td>NE</td>\n",
       "      <td>633.8</td>\n",
       "    </tr>\n",
       "    <tr>\n",
       "      <th>18</th>\n",
       "      <td>MO</td>\n",
       "      <td>3251.6</td>\n",
       "    </tr>\n",
       "    <tr>\n",
       "      <th>19</th>\n",
       "      <td>FL</td>\n",
       "      <td>7473.3</td>\n",
       "    </tr>\n",
       "    <tr>\n",
       "      <th>20</th>\n",
       "      <td>ME</td>\n",
       "      <td>900.8</td>\n",
       "    </tr>\n",
       "    <tr>\n",
       "      <th>21</th>\n",
       "      <td>AR</td>\n",
       "      <td>874.2</td>\n",
       "    </tr>\n",
       "    <tr>\n",
       "      <th>22</th>\n",
       "      <td>WI</td>\n",
       "      <td>1754.7</td>\n",
       "    </tr>\n",
       "    <tr>\n",
       "      <th>23</th>\n",
       "      <td>NC</td>\n",
       "      <td>7131.0</td>\n",
       "    </tr>\n",
       "    <tr>\n",
       "      <th>24</th>\n",
       "      <td>CT</td>\n",
       "      <td>2128.7</td>\n",
       "    </tr>\n",
       "    <tr>\n",
       "      <th>25</th>\n",
       "      <td>SD</td>\n",
       "      <td>251.4</td>\n",
       "    </tr>\n",
       "    <tr>\n",
       "      <th>26</th>\n",
       "      <td>RI</td>\n",
       "      <td>396.5</td>\n",
       "    </tr>\n",
       "    <tr>\n",
       "      <th>27</th>\n",
       "      <td>OK</td>\n",
       "      <td>885.9</td>\n",
       "    </tr>\n",
       "    <tr>\n",
       "      <th>28</th>\n",
       "      <td>ID</td>\n",
       "      <td>446.2</td>\n",
       "    </tr>\n",
       "    <tr>\n",
       "      <th>29</th>\n",
       "      <td>GA</td>\n",
       "      <td>3950.0</td>\n",
       "    </tr>\n",
       "    <tr>\n",
       "      <th>30</th>\n",
       "      <td>MN</td>\n",
       "      <td>2195.7</td>\n",
       "    </tr>\n",
       "    <tr>\n",
       "      <th>31</th>\n",
       "      <td>PA</td>\n",
       "      <td>7799.7</td>\n",
       "    </tr>\n",
       "    <tr>\n",
       "      <th>32</th>\n",
       "      <td>MD</td>\n",
       "      <td>3186.0</td>\n",
       "    </tr>\n",
       "    <tr>\n",
       "      <th>33</th>\n",
       "      <td>AK</td>\n",
       "      <td>89.5</td>\n",
       "    </tr>\n",
       "    <tr>\n",
       "      <th>34</th>\n",
       "      <td>WY</td>\n",
       "      <td>34.9</td>\n",
       "    </tr>\n",
       "    <tr>\n",
       "      <th>35</th>\n",
       "      <td>LA</td>\n",
       "      <td>465.3</td>\n",
       "    </tr>\n",
       "    <tr>\n",
       "      <th>36</th>\n",
       "      <td>MT</td>\n",
       "      <td>230.9</td>\n",
       "    </tr>\n",
       "    <tr>\n",
       "      <th>37</th>\n",
       "      <td>IL</td>\n",
       "      <td>4377.0</td>\n",
       "    </tr>\n",
       "    <tr>\n",
       "      <th>38</th>\n",
       "      <td>TN</td>\n",
       "      <td>1724.2</td>\n",
       "    </tr>\n",
       "    <tr>\n",
       "      <th>39</th>\n",
       "      <td>WA</td>\n",
       "      <td>1909.1</td>\n",
       "    </tr>\n",
       "    <tr>\n",
       "      <th>40</th>\n",
       "      <td>NJ</td>\n",
       "      <td>5102.5</td>\n",
       "    </tr>\n",
       "    <tr>\n",
       "      <th>41</th>\n",
       "      <td>MI</td>\n",
       "      <td>5051.7</td>\n",
       "    </tr>\n",
       "    <tr>\n",
       "      <th>42</th>\n",
       "      <td>MA</td>\n",
       "      <td>3712.9</td>\n",
       "    </tr>\n",
       "    <tr>\n",
       "      <th>43</th>\n",
       "      <td>AL</td>\n",
       "      <td>1154.0</td>\n",
       "    </tr>\n",
       "    <tr>\n",
       "      <th>44</th>\n",
       "      <td>UT</td>\n",
       "      <td>439.1</td>\n",
       "    </tr>\n",
       "    <tr>\n",
       "      <th>45</th>\n",
       "      <td>IA</td>\n",
       "      <td>533.5</td>\n",
       "    </tr>\n",
       "    <tr>\n",
       "      <th>46</th>\n",
       "      <td>VT</td>\n",
       "      <td>210.4</td>\n",
       "    </tr>\n",
       "    <tr>\n",
       "      <th>47</th>\n",
       "      <td>CO</td>\n",
       "      <td>826.0</td>\n",
       "    </tr>\n",
       "    <tr>\n",
       "      <th>48</th>\n",
       "      <td>SC</td>\n",
       "      <td>977.4</td>\n",
       "    </tr>\n",
       "    <tr>\n",
       "      <th>49</th>\n",
       "      <td>VI</td>\n",
       "      <td>10.6</td>\n",
       "    </tr>\n",
       "    <tr>\n",
       "      <th>50</th>\n",
       "      <td>VA</td>\n",
       "      <td>2567.3</td>\n",
       "    </tr>\n",
       "    <tr>\n",
       "      <th>51</th>\n",
       "      <td>AS</td>\n",
       "      <td>0.0</td>\n",
       "    </tr>\n",
       "    <tr>\n",
       "      <th>52</th>\n",
       "      <td>DE</td>\n",
       "      <td>914.7</td>\n",
       "    </tr>\n",
       "    <tr>\n",
       "      <th>53</th>\n",
       "      <td>AZ</td>\n",
       "      <td>1557.5</td>\n",
       "    </tr>\n",
       "    <tr>\n",
       "      <th>54</th>\n",
       "      <td>KS</td>\n",
       "      <td>583.8</td>\n",
       "    </tr>\n",
       "  </tbody>\n",
       "</table>\n",
       "</div>"
      ],
      "text/plain": [
       "   state_code  number of COVID cases\n",
       "0          CA                 8996.6\n",
       "1          NH                  537.1\n",
       "2          OR                 1490.9\n",
       "3          TX                 7002.1\n",
       "4          ND                  246.7\n",
       "5          PR                  687.7\n",
       "6          NV                  549.7\n",
       "7          OH                 5179.4\n",
       "8          KY                 1703.4\n",
       "9          GU                    8.4\n",
       "10         NY                13943.2\n",
       "11         HI                  346.4\n",
       "12         NM                  415.7\n",
       "13         MS                  498.7\n",
       "14         IN                 1416.1\n",
       "15         DC                  619.1\n",
       "16         WV                  839.6\n",
       "17         NE                  633.8\n",
       "18         MO                 3251.6\n",
       "19         FL                 7473.3\n",
       "20         ME                  900.8\n",
       "21         AR                  874.2\n",
       "22         WI                 1754.7\n",
       "23         NC                 7131.0\n",
       "24         CT                 2128.7\n",
       "25         SD                  251.4\n",
       "26         RI                  396.5\n",
       "27         OK                  885.9\n",
       "28         ID                  446.2\n",
       "29         GA                 3950.0\n",
       "30         MN                 2195.7\n",
       "31         PA                 7799.7\n",
       "32         MD                 3186.0\n",
       "33         AK                   89.5\n",
       "34         WY                   34.9\n",
       "35         LA                  465.3\n",
       "36         MT                  230.9\n",
       "37         IL                 4377.0\n",
       "38         TN                 1724.2\n",
       "39         WA                 1909.1\n",
       "40         NJ                 5102.5\n",
       "41         MI                 5051.7\n",
       "42         MA                 3712.9\n",
       "43         AL                 1154.0\n",
       "44         UT                  439.1\n",
       "45         IA                  533.5\n",
       "46         VT                  210.4\n",
       "47         CO                  826.0\n",
       "48         SC                  977.4\n",
       "49         VI                   10.6\n",
       "50         VA                 2567.3\n",
       "51         AS                    0.0\n",
       "52         DE                  914.7\n",
       "53         AZ                 1557.5\n",
       "54         KS                  583.8"
      ]
     },
     "execution_count": 62,
     "metadata": {},
     "output_type": "execute_result"
    }
   ],
   "source": [
    "conn = psycopg.connect(\n",
    "        host=\"sculptor.stat.cmu.edu\", dbname=credentials.DB_USER,\n",
    "        user=credentials.DB_USER, password=credentials.DB_PASSWORD\"\n",
    "    )\n",
    "\n",
    "cur = conn.cursor()\n",
    "\n",
    "'''cur.execute(\"SELECT left(Hospital_geographic_infor_hhs.fips_code, -5) AS fips_code, \"\n",
    "            \"sum(Weekly_capacity_inform.inpatient_beds_used_covid_7_day_avg) FROM Weekly_capacity_inform \"\n",
    "            \"JOIN Hospital_geographic_infor_hhs ON weekly_capacity_inform.hospital_pk = Hospital_geographic_infor_hhs.hospital_pk \"   \n",
    "            \"GROUP BY left(Hospital_geographic_infor_hhs.fips_code, -5) \"\n",
    "            \"ORDER BY fips_code asc;\")\n",
    "rows = cur.fetchall()\n",
    "print(rows)'''\n",
    "my_table_5 = pd.read_sql_query(\"SELECT Hospital_geographic_infor_quality.state AS state_code, \"\n",
    "            \"SUM(Weekly_capacity_inform.inpatient_beds_used_covid_7_day_avg) FROM Weekly_capacity_inform \"\n",
    "            \"JOIN Hospital_geographic_infor_quality ON weekly_capacity_inform.hospital_pk = Hospital_geographic_infor_quality.facility_ID \"   \n",
    "            \"GROUP BY Hospital_geographic_infor_quality.state;\", conn)\n",
    "my_table_5 = my_table_5.rename(columns = {'sum': 'number of COVID cases'})\n",
    "\n",
    "my_table_8 = pd.read_sql_query(\"SELECT left(Hospital_geographic_infor_hhs.fips_code, -5) AS fips_code, \"\n",
    "            \"sum(Weekly_capacity_inform.inpatient_beds_used_covid_7_day_avg) FROM Weekly_capacity_inform \"\n",
    "            \"JOIN Hospital_geographic_infor_hhs ON weekly_capacity_inform.hospital_pk = Hospital_geographic_infor_hhs.hospital_pk \"   \n",
    "            \"GROUP BY left(Hospital_geographic_infor_hhs.fips_code, -5) \"\n",
    "            \"ORDER BY fips_code asc;\", conn)\n",
    "my_table_8 = my_table_8.dropna()\n",
    "\n",
    "my_table_5"
   ]
  },
  {
   "cell_type": "code",
   "execution_count": 63,
   "metadata": {},
   "outputs": [],
   "source": [
    "my_table_8 = my_table_8.rename(columns = {'fips_code':'state_code', 'sum': 'number of COVID cases'})\n",
    "my_table_8['state_code'] = my_table_8['state_code'].astype(str)"
   ]
  },
  {
   "cell_type": "markdown",
   "metadata": {},
   "source": [
    "* **The map**"
   ]
  },
  {
   "cell_type": "code",
   "execution_count": 64,
   "metadata": {},
   "outputs": [
    {
     "data": {
      "application/vnd.plotly.v1+json": {
       "config": {
        "plotlyServerURL": "https://plot.ly"
       },
       "data": [
        {
         "coloraxis": "coloraxis",
         "geo": "geo",
         "hovertemplate": "state_code=%{location}<br>number of COVID cases=%{z}<extra></extra>",
         "locationmode": "USA-states",
         "locations": [
          "CA",
          "NH",
          "OR",
          "TX",
          "ND",
          "PR",
          "NV",
          "OH",
          "KY",
          "GU",
          "NY",
          "HI",
          "NM",
          "MS",
          "IN",
          "DC",
          "WV",
          "NE",
          "MO",
          "FL",
          "ME",
          "AR",
          "WI",
          "NC",
          "CT",
          "SD",
          "RI",
          "OK",
          "ID",
          "GA",
          "MN",
          "PA",
          "MD",
          "AK",
          "WY",
          "LA",
          "MT",
          "IL",
          "TN",
          "WA",
          "NJ",
          "MI",
          "MA",
          "AL",
          "UT",
          "IA",
          "VT",
          "CO",
          "SC",
          "VI",
          "VA",
          "AS",
          "DE",
          "AZ",
          "KS"
         ],
         "name": "",
         "type": "choropleth",
         "z": [
          8996.6,
          537.1,
          1490.9,
          7002.1,
          246.7,
          687.7,
          549.7,
          5179.4,
          1703.4,
          8.4,
          13943.2,
          346.4,
          415.7,
          498.7,
          1416.1,
          619.1,
          839.6,
          633.8,
          3251.6,
          7473.3,
          900.8,
          874.2,
          1754.7,
          7131,
          2128.7,
          251.4,
          396.5,
          885.9,
          446.2,
          3950,
          2195.7,
          7799.7,
          3186,
          89.5,
          34.9,
          465.3,
          230.9,
          4377,
          1724.2,
          1909.1,
          5102.5,
          5051.7,
          3712.9,
          1154,
          439.1,
          533.5,
          210.4,
          826,
          977.4,
          10.6,
          2567.3,
          0,
          914.7,
          1557.5,
          583.8
         ]
        }
       ],
       "layout": {
        "coloraxis": {
         "colorbar": {
          "title": {
           "text": "number of COVID cases"
          }
         },
         "colorscale": [
          [
           0,
           "#fde725"
          ],
          [
           0.1111111111111111,
           "#b5de2b"
          ],
          [
           0.2222222222222222,
           "#6ece58"
          ],
          [
           0.3333333333333333,
           "#35b779"
          ],
          [
           0.4444444444444444,
           "#1f9e89"
          ],
          [
           0.5555555555555556,
           "#26828e"
          ],
          [
           0.6666666666666666,
           "#31688e"
          ],
          [
           0.7777777777777778,
           "#3e4989"
          ],
          [
           0.8888888888888888,
           "#482878"
          ],
          [
           1,
           "#440154"
          ]
         ]
        },
        "geo": {
         "center": {},
         "domain": {
          "x": [
           0,
           1
          ],
          "y": [
           0,
           1
          ]
         },
         "scope": "usa"
        },
        "legend": {
         "tracegroupgap": 0
        },
        "margin": {
         "t": 60
        },
        "template": {
         "data": {
          "bar": [
           {
            "error_x": {
             "color": "#2a3f5f"
            },
            "error_y": {
             "color": "#2a3f5f"
            },
            "marker": {
             "line": {
              "color": "#E5ECF6",
              "width": 0.5
             },
             "pattern": {
              "fillmode": "overlay",
              "size": 10,
              "solidity": 0.2
             }
            },
            "type": "bar"
           }
          ],
          "barpolar": [
           {
            "marker": {
             "line": {
              "color": "#E5ECF6",
              "width": 0.5
             },
             "pattern": {
              "fillmode": "overlay",
              "size": 10,
              "solidity": 0.2
             }
            },
            "type": "barpolar"
           }
          ],
          "carpet": [
           {
            "aaxis": {
             "endlinecolor": "#2a3f5f",
             "gridcolor": "white",
             "linecolor": "white",
             "minorgridcolor": "white",
             "startlinecolor": "#2a3f5f"
            },
            "baxis": {
             "endlinecolor": "#2a3f5f",
             "gridcolor": "white",
             "linecolor": "white",
             "minorgridcolor": "white",
             "startlinecolor": "#2a3f5f"
            },
            "type": "carpet"
           }
          ],
          "choropleth": [
           {
            "colorbar": {
             "outlinewidth": 0,
             "ticks": ""
            },
            "type": "choropleth"
           }
          ],
          "contour": [
           {
            "colorbar": {
             "outlinewidth": 0,
             "ticks": ""
            },
            "colorscale": [
             [
              0,
              "#0d0887"
             ],
             [
              0.1111111111111111,
              "#46039f"
             ],
             [
              0.2222222222222222,
              "#7201a8"
             ],
             [
              0.3333333333333333,
              "#9c179e"
             ],
             [
              0.4444444444444444,
              "#bd3786"
             ],
             [
              0.5555555555555556,
              "#d8576b"
             ],
             [
              0.6666666666666666,
              "#ed7953"
             ],
             [
              0.7777777777777778,
              "#fb9f3a"
             ],
             [
              0.8888888888888888,
              "#fdca26"
             ],
             [
              1,
              "#f0f921"
             ]
            ],
            "type": "contour"
           }
          ],
          "contourcarpet": [
           {
            "colorbar": {
             "outlinewidth": 0,
             "ticks": ""
            },
            "type": "contourcarpet"
           }
          ],
          "heatmap": [
           {
            "colorbar": {
             "outlinewidth": 0,
             "ticks": ""
            },
            "colorscale": [
             [
              0,
              "#0d0887"
             ],
             [
              0.1111111111111111,
              "#46039f"
             ],
             [
              0.2222222222222222,
              "#7201a8"
             ],
             [
              0.3333333333333333,
              "#9c179e"
             ],
             [
              0.4444444444444444,
              "#bd3786"
             ],
             [
              0.5555555555555556,
              "#d8576b"
             ],
             [
              0.6666666666666666,
              "#ed7953"
             ],
             [
              0.7777777777777778,
              "#fb9f3a"
             ],
             [
              0.8888888888888888,
              "#fdca26"
             ],
             [
              1,
              "#f0f921"
             ]
            ],
            "type": "heatmap"
           }
          ],
          "heatmapgl": [
           {
            "colorbar": {
             "outlinewidth": 0,
             "ticks": ""
            },
            "colorscale": [
             [
              0,
              "#0d0887"
             ],
             [
              0.1111111111111111,
              "#46039f"
             ],
             [
              0.2222222222222222,
              "#7201a8"
             ],
             [
              0.3333333333333333,
              "#9c179e"
             ],
             [
              0.4444444444444444,
              "#bd3786"
             ],
             [
              0.5555555555555556,
              "#d8576b"
             ],
             [
              0.6666666666666666,
              "#ed7953"
             ],
             [
              0.7777777777777778,
              "#fb9f3a"
             ],
             [
              0.8888888888888888,
              "#fdca26"
             ],
             [
              1,
              "#f0f921"
             ]
            ],
            "type": "heatmapgl"
           }
          ],
          "histogram": [
           {
            "marker": {
             "pattern": {
              "fillmode": "overlay",
              "size": 10,
              "solidity": 0.2
             }
            },
            "type": "histogram"
           }
          ],
          "histogram2d": [
           {
            "colorbar": {
             "outlinewidth": 0,
             "ticks": ""
            },
            "colorscale": [
             [
              0,
              "#0d0887"
             ],
             [
              0.1111111111111111,
              "#46039f"
             ],
             [
              0.2222222222222222,
              "#7201a8"
             ],
             [
              0.3333333333333333,
              "#9c179e"
             ],
             [
              0.4444444444444444,
              "#bd3786"
             ],
             [
              0.5555555555555556,
              "#d8576b"
             ],
             [
              0.6666666666666666,
              "#ed7953"
             ],
             [
              0.7777777777777778,
              "#fb9f3a"
             ],
             [
              0.8888888888888888,
              "#fdca26"
             ],
             [
              1,
              "#f0f921"
             ]
            ],
            "type": "histogram2d"
           }
          ],
          "histogram2dcontour": [
           {
            "colorbar": {
             "outlinewidth": 0,
             "ticks": ""
            },
            "colorscale": [
             [
              0,
              "#0d0887"
             ],
             [
              0.1111111111111111,
              "#46039f"
             ],
             [
              0.2222222222222222,
              "#7201a8"
             ],
             [
              0.3333333333333333,
              "#9c179e"
             ],
             [
              0.4444444444444444,
              "#bd3786"
             ],
             [
              0.5555555555555556,
              "#d8576b"
             ],
             [
              0.6666666666666666,
              "#ed7953"
             ],
             [
              0.7777777777777778,
              "#fb9f3a"
             ],
             [
              0.8888888888888888,
              "#fdca26"
             ],
             [
              1,
              "#f0f921"
             ]
            ],
            "type": "histogram2dcontour"
           }
          ],
          "mesh3d": [
           {
            "colorbar": {
             "outlinewidth": 0,
             "ticks": ""
            },
            "type": "mesh3d"
           }
          ],
          "parcoords": [
           {
            "line": {
             "colorbar": {
              "outlinewidth": 0,
              "ticks": ""
             }
            },
            "type": "parcoords"
           }
          ],
          "pie": [
           {
            "automargin": true,
            "type": "pie"
           }
          ],
          "scatter": [
           {
            "marker": {
             "colorbar": {
              "outlinewidth": 0,
              "ticks": ""
             }
            },
            "type": "scatter"
           }
          ],
          "scatter3d": [
           {
            "line": {
             "colorbar": {
              "outlinewidth": 0,
              "ticks": ""
             }
            },
            "marker": {
             "colorbar": {
              "outlinewidth": 0,
              "ticks": ""
             }
            },
            "type": "scatter3d"
           }
          ],
          "scattercarpet": [
           {
            "marker": {
             "colorbar": {
              "outlinewidth": 0,
              "ticks": ""
             }
            },
            "type": "scattercarpet"
           }
          ],
          "scattergeo": [
           {
            "marker": {
             "colorbar": {
              "outlinewidth": 0,
              "ticks": ""
             }
            },
            "type": "scattergeo"
           }
          ],
          "scattergl": [
           {
            "marker": {
             "colorbar": {
              "outlinewidth": 0,
              "ticks": ""
             }
            },
            "type": "scattergl"
           }
          ],
          "scattermapbox": [
           {
            "marker": {
             "colorbar": {
              "outlinewidth": 0,
              "ticks": ""
             }
            },
            "type": "scattermapbox"
           }
          ],
          "scatterpolar": [
           {
            "marker": {
             "colorbar": {
              "outlinewidth": 0,
              "ticks": ""
             }
            },
            "type": "scatterpolar"
           }
          ],
          "scatterpolargl": [
           {
            "marker": {
             "colorbar": {
              "outlinewidth": 0,
              "ticks": ""
             }
            },
            "type": "scatterpolargl"
           }
          ],
          "scatterternary": [
           {
            "marker": {
             "colorbar": {
              "outlinewidth": 0,
              "ticks": ""
             }
            },
            "type": "scatterternary"
           }
          ],
          "surface": [
           {
            "colorbar": {
             "outlinewidth": 0,
             "ticks": ""
            },
            "colorscale": [
             [
              0,
              "#0d0887"
             ],
             [
              0.1111111111111111,
              "#46039f"
             ],
             [
              0.2222222222222222,
              "#7201a8"
             ],
             [
              0.3333333333333333,
              "#9c179e"
             ],
             [
              0.4444444444444444,
              "#bd3786"
             ],
             [
              0.5555555555555556,
              "#d8576b"
             ],
             [
              0.6666666666666666,
              "#ed7953"
             ],
             [
              0.7777777777777778,
              "#fb9f3a"
             ],
             [
              0.8888888888888888,
              "#fdca26"
             ],
             [
              1,
              "#f0f921"
             ]
            ],
            "type": "surface"
           }
          ],
          "table": [
           {
            "cells": {
             "fill": {
              "color": "#EBF0F8"
             },
             "line": {
              "color": "white"
             }
            },
            "header": {
             "fill": {
              "color": "#C8D4E3"
             },
             "line": {
              "color": "white"
             }
            },
            "type": "table"
           }
          ]
         },
         "layout": {
          "annotationdefaults": {
           "arrowcolor": "#2a3f5f",
           "arrowhead": 0,
           "arrowwidth": 1
          },
          "autotypenumbers": "strict",
          "coloraxis": {
           "colorbar": {
            "outlinewidth": 0,
            "ticks": ""
           }
          },
          "colorscale": {
           "diverging": [
            [
             0,
             "#8e0152"
            ],
            [
             0.1,
             "#c51b7d"
            ],
            [
             0.2,
             "#de77ae"
            ],
            [
             0.3,
             "#f1b6da"
            ],
            [
             0.4,
             "#fde0ef"
            ],
            [
             0.5,
             "#f7f7f7"
            ],
            [
             0.6,
             "#e6f5d0"
            ],
            [
             0.7,
             "#b8e186"
            ],
            [
             0.8,
             "#7fbc41"
            ],
            [
             0.9,
             "#4d9221"
            ],
            [
             1,
             "#276419"
            ]
           ],
           "sequential": [
            [
             0,
             "#0d0887"
            ],
            [
             0.1111111111111111,
             "#46039f"
            ],
            [
             0.2222222222222222,
             "#7201a8"
            ],
            [
             0.3333333333333333,
             "#9c179e"
            ],
            [
             0.4444444444444444,
             "#bd3786"
            ],
            [
             0.5555555555555556,
             "#d8576b"
            ],
            [
             0.6666666666666666,
             "#ed7953"
            ],
            [
             0.7777777777777778,
             "#fb9f3a"
            ],
            [
             0.8888888888888888,
             "#fdca26"
            ],
            [
             1,
             "#f0f921"
            ]
           ],
           "sequentialminus": [
            [
             0,
             "#0d0887"
            ],
            [
             0.1111111111111111,
             "#46039f"
            ],
            [
             0.2222222222222222,
             "#7201a8"
            ],
            [
             0.3333333333333333,
             "#9c179e"
            ],
            [
             0.4444444444444444,
             "#bd3786"
            ],
            [
             0.5555555555555556,
             "#d8576b"
            ],
            [
             0.6666666666666666,
             "#ed7953"
            ],
            [
             0.7777777777777778,
             "#fb9f3a"
            ],
            [
             0.8888888888888888,
             "#fdca26"
            ],
            [
             1,
             "#f0f921"
            ]
           ]
          },
          "colorway": [
           "#636efa",
           "#EF553B",
           "#00cc96",
           "#ab63fa",
           "#FFA15A",
           "#19d3f3",
           "#FF6692",
           "#B6E880",
           "#FF97FF",
           "#FECB52"
          ],
          "font": {
           "color": "#2a3f5f"
          },
          "geo": {
           "bgcolor": "white",
           "lakecolor": "white",
           "landcolor": "#E5ECF6",
           "showlakes": true,
           "showland": true,
           "subunitcolor": "white"
          },
          "hoverlabel": {
           "align": "left"
          },
          "hovermode": "closest",
          "mapbox": {
           "style": "light"
          },
          "paper_bgcolor": "white",
          "plot_bgcolor": "#E5ECF6",
          "polar": {
           "angularaxis": {
            "gridcolor": "white",
            "linecolor": "white",
            "ticks": ""
           },
           "bgcolor": "#E5ECF6",
           "radialaxis": {
            "gridcolor": "white",
            "linecolor": "white",
            "ticks": ""
           }
          },
          "scene": {
           "xaxis": {
            "backgroundcolor": "#E5ECF6",
            "gridcolor": "white",
            "gridwidth": 2,
            "linecolor": "white",
            "showbackground": true,
            "ticks": "",
            "zerolinecolor": "white"
           },
           "yaxis": {
            "backgroundcolor": "#E5ECF6",
            "gridcolor": "white",
            "gridwidth": 2,
            "linecolor": "white",
            "showbackground": true,
            "ticks": "",
            "zerolinecolor": "white"
           },
           "zaxis": {
            "backgroundcolor": "#E5ECF6",
            "gridcolor": "white",
            "gridwidth": 2,
            "linecolor": "white",
            "showbackground": true,
            "ticks": "",
            "zerolinecolor": "white"
           }
          },
          "shapedefaults": {
           "line": {
            "color": "#2a3f5f"
           }
          },
          "ternary": {
           "aaxis": {
            "gridcolor": "white",
            "linecolor": "white",
            "ticks": ""
           },
           "baxis": {
            "gridcolor": "white",
            "linecolor": "white",
            "ticks": ""
           },
           "bgcolor": "#E5ECF6",
           "caxis": {
            "gridcolor": "white",
            "linecolor": "white",
            "ticks": ""
           }
          },
          "title": {
           "x": 0.05
          },
          "xaxis": {
           "automargin": true,
           "gridcolor": "white",
           "linecolor": "white",
           "ticks": "",
           "title": {
            "standoff": 15
           },
           "zerolinecolor": "white",
           "zerolinewidth": 2
          },
          "yaxis": {
           "automargin": true,
           "gridcolor": "white",
           "linecolor": "white",
           "ticks": "",
           "title": {
            "standoff": 15
           },
           "zerolinecolor": "white",
           "zerolinewidth": 2
          }
         }
        }
       }
      }
     },
     "metadata": {},
     "output_type": "display_data"
    }
   ],
   "source": [
    "import plotly.express as px\n",
    "fig = px.choropleth(my_table_5,\n",
    "                    locations='state_code', \n",
    "                    locationmode=\"USA-states\", \n",
    "                    scope=\"usa\",\n",
    "                    color='number of COVID cases',\n",
    "                    color_continuous_scale=\"Viridis_r\",\n",
    "                    \n",
    "                    )\n",
    "fig.show()"
   ]
  },
  {
   "cell_type": "markdown",
   "metadata": {},
   "source": [
    "**6. Table of the states in which the number of cases has increased by the most since last week**"
   ]
  },
  {
   "cell_type": "code",
   "execution_count": 65,
   "metadata": {},
   "outputs": [
    {
     "data": {
      "text/html": [
       "<div>\n",
       "<style scoped>\n",
       "    .dataframe tbody tr th:only-of-type {\n",
       "        vertical-align: middle;\n",
       "    }\n",
       "\n",
       "    .dataframe tbody tr th {\n",
       "        vertical-align: top;\n",
       "    }\n",
       "\n",
       "    .dataframe thead th {\n",
       "        text-align: right;\n",
       "    }\n",
       "</style>\n",
       "<table border=\"1\" class=\"dataframe\">\n",
       "  <thead>\n",
       "    <tr style=\"text-align: right;\">\n",
       "      <th></th>\n",
       "      <th>collection_week</th>\n",
       "      <th>increase_number_covid</th>\n",
       "    </tr>\n",
       "    <tr>\n",
       "      <th>state</th>\n",
       "      <th></th>\n",
       "      <th></th>\n",
       "    </tr>\n",
       "  </thead>\n",
       "  <tbody>\n",
       "    <tr>\n",
       "      <th>IL</th>\n",
       "      <td>2022-10-21</td>\n",
       "      <td>133.3</td>\n",
       "    </tr>\n",
       "    <tr>\n",
       "      <th>WI</th>\n",
       "      <td>2022-10-21</td>\n",
       "      <td>81.4</td>\n",
       "    </tr>\n",
       "    <tr>\n",
       "      <th>OH</th>\n",
       "      <td>2022-10-21</td>\n",
       "      <td>79.5</td>\n",
       "    </tr>\n",
       "    <tr>\n",
       "      <th>IN</th>\n",
       "      <td>2022-10-21</td>\n",
       "      <td>67.8</td>\n",
       "    </tr>\n",
       "    <tr>\n",
       "      <th>MN</th>\n",
       "      <td>2022-10-21</td>\n",
       "      <td>65.9</td>\n",
       "    </tr>\n",
       "    <tr>\n",
       "      <th>AZ</th>\n",
       "      <td>2022-10-21</td>\n",
       "      <td>64.3</td>\n",
       "    </tr>\n",
       "    <tr>\n",
       "      <th>PA</th>\n",
       "      <td>2022-10-21</td>\n",
       "      <td>52.0</td>\n",
       "    </tr>\n",
       "    <tr>\n",
       "      <th>MO</th>\n",
       "      <td>2022-10-21</td>\n",
       "      <td>50.1</td>\n",
       "    </tr>\n",
       "    <tr>\n",
       "      <th>NY</th>\n",
       "      <td>2022-10-21</td>\n",
       "      <td>40.6</td>\n",
       "    </tr>\n",
       "    <tr>\n",
       "      <th>NJ</th>\n",
       "      <td>2022-10-21</td>\n",
       "      <td>39.7</td>\n",
       "    </tr>\n",
       "    <tr>\n",
       "      <th>OK</th>\n",
       "      <td>2022-10-21</td>\n",
       "      <td>31.0</td>\n",
       "    </tr>\n",
       "    <tr>\n",
       "      <th>NV</th>\n",
       "      <td>2022-10-21</td>\n",
       "      <td>24.6</td>\n",
       "    </tr>\n",
       "    <tr>\n",
       "      <th>NE</th>\n",
       "      <td>2022-10-21</td>\n",
       "      <td>24.4</td>\n",
       "    </tr>\n",
       "    <tr>\n",
       "      <th>MD</th>\n",
       "      <td>2022-10-21</td>\n",
       "      <td>23.9</td>\n",
       "    </tr>\n",
       "    <tr>\n",
       "      <th>CO</th>\n",
       "      <td>2022-10-21</td>\n",
       "      <td>22.0</td>\n",
       "    </tr>\n",
       "    <tr>\n",
       "      <th>GA</th>\n",
       "      <td>2022-10-21</td>\n",
       "      <td>16.2</td>\n",
       "    </tr>\n",
       "    <tr>\n",
       "      <th>PR</th>\n",
       "      <td>2022-10-21</td>\n",
       "      <td>15.3</td>\n",
       "    </tr>\n",
       "    <tr>\n",
       "      <th>VA</th>\n",
       "      <td>2022-10-21</td>\n",
       "      <td>15.1</td>\n",
       "    </tr>\n",
       "    <tr>\n",
       "      <th>VT</th>\n",
       "      <td>2022-10-21</td>\n",
       "      <td>13.4</td>\n",
       "    </tr>\n",
       "    <tr>\n",
       "      <th>HI</th>\n",
       "      <td>2022-10-21</td>\n",
       "      <td>11.4</td>\n",
       "    </tr>\n",
       "    <tr>\n",
       "      <th>NM</th>\n",
       "      <td>2022-10-21</td>\n",
       "      <td>10.5</td>\n",
       "    </tr>\n",
       "    <tr>\n",
       "      <th>KS</th>\n",
       "      <td>2022-10-21</td>\n",
       "      <td>10.1</td>\n",
       "    </tr>\n",
       "    <tr>\n",
       "      <th>UT</th>\n",
       "      <td>2022-10-21</td>\n",
       "      <td>7.2</td>\n",
       "    </tr>\n",
       "    <tr>\n",
       "      <th>CT</th>\n",
       "      <td>2022-10-21</td>\n",
       "      <td>5.7</td>\n",
       "    </tr>\n",
       "    <tr>\n",
       "      <th>ID</th>\n",
       "      <td>2022-10-21</td>\n",
       "      <td>3.8</td>\n",
       "    </tr>\n",
       "    <tr>\n",
       "      <th>MT</th>\n",
       "      <td>2022-10-21</td>\n",
       "      <td>3.1</td>\n",
       "    </tr>\n",
       "    <tr>\n",
       "      <th>KY</th>\n",
       "      <td>2022-10-21</td>\n",
       "      <td>2.9</td>\n",
       "    </tr>\n",
       "    <tr>\n",
       "      <th>WY</th>\n",
       "      <td>2022-10-21</td>\n",
       "      <td>0.7</td>\n",
       "    </tr>\n",
       "    <tr>\n",
       "      <th>ND</th>\n",
       "      <td>2022-10-21</td>\n",
       "      <td>0.5</td>\n",
       "    </tr>\n",
       "    <tr>\n",
       "      <th>AR</th>\n",
       "      <td>2022-10-21</td>\n",
       "      <td>0.2</td>\n",
       "    </tr>\n",
       "    <tr>\n",
       "      <th>AL</th>\n",
       "      <td>2022-10-21</td>\n",
       "      <td>0.1</td>\n",
       "    </tr>\n",
       "    <tr>\n",
       "      <th>AS</th>\n",
       "      <td>2022-10-21</td>\n",
       "      <td>0</td>\n",
       "    </tr>\n",
       "    <tr>\n",
       "      <th>IA</th>\n",
       "      <td>2022-10-21</td>\n",
       "      <td>-0.7</td>\n",
       "    </tr>\n",
       "    <tr>\n",
       "      <th>TN</th>\n",
       "      <td>2022-10-21</td>\n",
       "      <td>-1.9</td>\n",
       "    </tr>\n",
       "    <tr>\n",
       "      <th>SD</th>\n",
       "      <td>2022-10-21</td>\n",
       "      <td>-2.6</td>\n",
       "    </tr>\n",
       "    <tr>\n",
       "      <th>ME</th>\n",
       "      <td>2022-10-21</td>\n",
       "      <td>-4.0</td>\n",
       "    </tr>\n",
       "    <tr>\n",
       "      <th>RI</th>\n",
       "      <td>2022-10-21</td>\n",
       "      <td>-4.4</td>\n",
       "    </tr>\n",
       "    <tr>\n",
       "      <th>DC</th>\n",
       "      <td>2022-10-21</td>\n",
       "      <td>-4.9</td>\n",
       "    </tr>\n",
       "    <tr>\n",
       "      <th>AK</th>\n",
       "      <td>2022-10-21</td>\n",
       "      <td>-5.7</td>\n",
       "    </tr>\n",
       "    <tr>\n",
       "      <th>OR</th>\n",
       "      <td>2022-10-21</td>\n",
       "      <td>-10.3</td>\n",
       "    </tr>\n",
       "    <tr>\n",
       "      <th>SC</th>\n",
       "      <td>2022-10-21</td>\n",
       "      <td>-12.5</td>\n",
       "    </tr>\n",
       "    <tr>\n",
       "      <th>NH</th>\n",
       "      <td>2022-10-21</td>\n",
       "      <td>-13.9</td>\n",
       "    </tr>\n",
       "    <tr>\n",
       "      <th>LA</th>\n",
       "      <td>2022-10-21</td>\n",
       "      <td>-19.8</td>\n",
       "    </tr>\n",
       "    <tr>\n",
       "      <th>MS</th>\n",
       "      <td>2022-10-21</td>\n",
       "      <td>-21.1</td>\n",
       "    </tr>\n",
       "    <tr>\n",
       "      <th>WV</th>\n",
       "      <td>2022-10-21</td>\n",
       "      <td>-25.7</td>\n",
       "    </tr>\n",
       "    <tr>\n",
       "      <th>DE</th>\n",
       "      <td>2022-10-21</td>\n",
       "      <td>-27.9</td>\n",
       "    </tr>\n",
       "    <tr>\n",
       "      <th>MI</th>\n",
       "      <td>2022-10-21</td>\n",
       "      <td>-38.4</td>\n",
       "    </tr>\n",
       "    <tr>\n",
       "      <th>CA</th>\n",
       "      <td>2022-10-21</td>\n",
       "      <td>-38.9</td>\n",
       "    </tr>\n",
       "    <tr>\n",
       "      <th>FL</th>\n",
       "      <td>2022-10-21</td>\n",
       "      <td>-47.7</td>\n",
       "    </tr>\n",
       "    <tr>\n",
       "      <th>NC</th>\n",
       "      <td>2022-10-21</td>\n",
       "      <td>-49.1</td>\n",
       "    </tr>\n",
       "    <tr>\n",
       "      <th>WA</th>\n",
       "      <td>2022-10-21</td>\n",
       "      <td>-50.0</td>\n",
       "    </tr>\n",
       "    <tr>\n",
       "      <th>MA</th>\n",
       "      <td>2022-10-21</td>\n",
       "      <td>-54.3</td>\n",
       "    </tr>\n",
       "    <tr>\n",
       "      <th>TX</th>\n",
       "      <td>2022-10-21</td>\n",
       "      <td>-78.8</td>\n",
       "    </tr>\n",
       "  </tbody>\n",
       "</table>\n",
       "</div>"
      ],
      "text/plain": [
       "      collection_week increase_number_covid\n",
       "state                                      \n",
       "IL         2022-10-21                 133.3\n",
       "WI         2022-10-21                  81.4\n",
       "OH         2022-10-21                  79.5\n",
       "IN         2022-10-21                  67.8\n",
       "MN         2022-10-21                  65.9\n",
       "AZ         2022-10-21                  64.3\n",
       "PA         2022-10-21                  52.0\n",
       "MO         2022-10-21                  50.1\n",
       "NY         2022-10-21                  40.6\n",
       "NJ         2022-10-21                  39.7\n",
       "OK         2022-10-21                  31.0\n",
       "NV         2022-10-21                  24.6\n",
       "NE         2022-10-21                  24.4\n",
       "MD         2022-10-21                  23.9\n",
       "CO         2022-10-21                  22.0\n",
       "GA         2022-10-21                  16.2\n",
       "PR         2022-10-21                  15.3\n",
       "VA         2022-10-21                  15.1\n",
       "VT         2022-10-21                  13.4\n",
       "HI         2022-10-21                  11.4\n",
       "NM         2022-10-21                  10.5\n",
       "KS         2022-10-21                  10.1\n",
       "UT         2022-10-21                   7.2\n",
       "CT         2022-10-21                   5.7\n",
       "ID         2022-10-21                   3.8\n",
       "MT         2022-10-21                   3.1\n",
       "KY         2022-10-21                   2.9\n",
       "WY         2022-10-21                   0.7\n",
       "ND         2022-10-21                   0.5\n",
       "AR         2022-10-21                   0.2\n",
       "AL         2022-10-21                   0.1\n",
       "AS         2022-10-21                     0\n",
       "IA         2022-10-21                  -0.7\n",
       "TN         2022-10-21                  -1.9\n",
       "SD         2022-10-21                  -2.6\n",
       "ME         2022-10-21                  -4.0\n",
       "RI         2022-10-21                  -4.4\n",
       "DC         2022-10-21                  -4.9\n",
       "AK         2022-10-21                  -5.7\n",
       "OR         2022-10-21                 -10.3\n",
       "SC         2022-10-21                 -12.5\n",
       "NH         2022-10-21                 -13.9\n",
       "LA         2022-10-21                 -19.8\n",
       "MS         2022-10-21                 -21.1\n",
       "WV         2022-10-21                 -25.7\n",
       "DE         2022-10-21                 -27.9\n",
       "MI         2022-10-21                 -38.4\n",
       "CA         2022-10-21                 -38.9\n",
       "FL         2022-10-21                 -47.7\n",
       "NC         2022-10-21                 -49.1\n",
       "WA         2022-10-21                 -50.0\n",
       "MA         2022-10-21                 -54.3\n",
       "TX         2022-10-21                 -78.8"
      ]
     },
     "execution_count": 65,
     "metadata": {},
     "output_type": "execute_result"
    }
   ],
   "source": [
    "conn = psycopg.connect(\n",
    "        host=\"sculptor.stat.cmu.edu\", dbname=credentials.DB_USER,\n",
    "        user=credentials.DB_USER, password=credentials.DB_PASSWORD\"\n",
    "    )\n",
    "\n",
    "cur = conn.cursor()\n",
    "cur.execute(\"select Hospital_geographic_infor_quality.state, collection_week, \"\n",
    "\"sum(inpatient_beds_used_covid_7_day_avg)-lag(sum(inpatient_beds_used_covid_7_day_avg)) \"\n",
    "\"over (partition by Hospital_geographic_infor_quality.state order by collection_week) \"\n",
    "\"as increase_number_COVID from weekly_capacity_inform \"\n",
    "\"JOIN Hospital_geographic_infor_quality ON weekly_capacity_inform.hospital_pk = \"\n",
    "\"Hospital_geographic_infor_quality.facility_ID \"\n",
    "\"WHERE collection_week <= %(week)s \"\n",
    "\"AND collection_week >= (%(week)s - 1 * integer '7') \"\n",
    "\"GROUP BY Hospital_geographic_infor_quality.state, collection_week \"\n",
    "\"ORDER BY increase_number_COVID desc\", {'week': week2})\n",
    "rows = cur.fetchall()\n",
    "my_table_6 = pd.DataFrame(rows)\n",
    "my_table_6 = my_table_6.dropna()\n",
    "my_table_6 = my_table_6.rename(columns = {0: \"state\", 1:\"collection_week\", 2:\"increase_number_covid\"})\n",
    "my_table_6 = my_table_6.set_index('state')\n",
    "my_table_6"
   ]
  },
  {
   "cell_type": "markdown",
   "metadata": {},
   "source": [
    "**7. Graphs of hospital utilization (the percent of available beds being used) by type of hospital (private or public), over time**"
   ]
  },
  {
   "cell_type": "markdown",
   "metadata": {},
   "source": [
    "* **The table containing specific hospital utilization by type of hospital over time**"
   ]
  },
  {
   "cell_type": "code",
   "execution_count": 66,
   "metadata": {},
   "outputs": [
    {
     "data": {
      "text/html": [
       "<div>\n",
       "<style scoped>\n",
       "    .dataframe tbody tr th:only-of-type {\n",
       "        vertical-align: middle;\n",
       "    }\n",
       "\n",
       "    .dataframe tbody tr th {\n",
       "        vertical-align: top;\n",
       "    }\n",
       "\n",
       "    .dataframe thead th {\n",
       "        text-align: right;\n",
       "    }\n",
       "</style>\n",
       "<table border=\"1\" class=\"dataframe\">\n",
       "  <thead>\n",
       "    <tr style=\"text-align: right;\">\n",
       "      <th></th>\n",
       "      <th>hospital_ownership</th>\n",
       "      <th>collection_week</th>\n",
       "      <th>all_beds_occupied_fraction</th>\n",
       "    </tr>\n",
       "  </thead>\n",
       "  <tbody>\n",
       "    <tr>\n",
       "      <th>0</th>\n",
       "      <td>Physician</td>\n",
       "      <td>2022-10-21</td>\n",
       "      <td>0.124711</td>\n",
       "    </tr>\n",
       "    <tr>\n",
       "      <th>1</th>\n",
       "      <td>Voluntary non-profit - Private</td>\n",
       "      <td>2022-10-21</td>\n",
       "      <td>0.125605</td>\n",
       "    </tr>\n",
       "    <tr>\n",
       "      <th>2</th>\n",
       "      <td>Proprietary</td>\n",
       "      <td>2022-10-21</td>\n",
       "      <td>0.102291</td>\n",
       "    </tr>\n",
       "    <tr>\n",
       "      <th>3</th>\n",
       "      <td>Government - Federal</td>\n",
       "      <td>2022-10-21</td>\n",
       "      <td>NaN</td>\n",
       "    </tr>\n",
       "    <tr>\n",
       "      <th>4</th>\n",
       "      <td>Government - Local</td>\n",
       "      <td>2022-10-21</td>\n",
       "      <td>0.075838</td>\n",
       "    </tr>\n",
       "    <tr>\n",
       "      <th>5</th>\n",
       "      <td>Voluntary non-profit - Church</td>\n",
       "      <td>2022-10-21</td>\n",
       "      <td>0.084230</td>\n",
       "    </tr>\n",
       "    <tr>\n",
       "      <th>6</th>\n",
       "      <td>Government - State</td>\n",
       "      <td>2022-10-21</td>\n",
       "      <td>0.177721</td>\n",
       "    </tr>\n",
       "    <tr>\n",
       "      <th>7</th>\n",
       "      <td>Government - Hospital District or Authority</td>\n",
       "      <td>2022-10-21</td>\n",
       "      <td>0.076652</td>\n",
       "    </tr>\n",
       "    <tr>\n",
       "      <th>8</th>\n",
       "      <td>Voluntary non-profit - Other</td>\n",
       "      <td>2022-10-21</td>\n",
       "      <td>0.091657</td>\n",
       "    </tr>\n",
       "    <tr>\n",
       "      <th>9</th>\n",
       "      <td>Proprietary</td>\n",
       "      <td>2022-10-14</td>\n",
       "      <td>0.098150</td>\n",
       "    </tr>\n",
       "    <tr>\n",
       "      <th>10</th>\n",
       "      <td>Voluntary non-profit - Church</td>\n",
       "      <td>2022-10-14</td>\n",
       "      <td>0.084958</td>\n",
       "    </tr>\n",
       "    <tr>\n",
       "      <th>11</th>\n",
       "      <td>Government - Local</td>\n",
       "      <td>2022-10-14</td>\n",
       "      <td>0.067473</td>\n",
       "    </tr>\n",
       "    <tr>\n",
       "      <th>12</th>\n",
       "      <td>Government - Hospital District or Authority</td>\n",
       "      <td>2022-10-14</td>\n",
       "      <td>0.084045</td>\n",
       "    </tr>\n",
       "    <tr>\n",
       "      <th>13</th>\n",
       "      <td>Physician</td>\n",
       "      <td>2022-10-14</td>\n",
       "      <td>0.142274</td>\n",
       "    </tr>\n",
       "    <tr>\n",
       "      <th>14</th>\n",
       "      <td>Government - Federal</td>\n",
       "      <td>2022-10-14</td>\n",
       "      <td>0.026820</td>\n",
       "    </tr>\n",
       "    <tr>\n",
       "      <th>15</th>\n",
       "      <td>Voluntary non-profit - Other</td>\n",
       "      <td>2022-10-14</td>\n",
       "      <td>0.087934</td>\n",
       "    </tr>\n",
       "    <tr>\n",
       "      <th>16</th>\n",
       "      <td>Government - State</td>\n",
       "      <td>2022-10-14</td>\n",
       "      <td>0.164778</td>\n",
       "    </tr>\n",
       "    <tr>\n",
       "      <th>17</th>\n",
       "      <td>Voluntary non-profit - Private</td>\n",
       "      <td>2022-10-14</td>\n",
       "      <td>0.116866</td>\n",
       "    </tr>\n",
       "    <tr>\n",
       "      <th>18</th>\n",
       "      <td>Proprietary</td>\n",
       "      <td>2022-10-07</td>\n",
       "      <td>0.098995</td>\n",
       "    </tr>\n",
       "    <tr>\n",
       "      <th>19</th>\n",
       "      <td>Government - State</td>\n",
       "      <td>2022-10-07</td>\n",
       "      <td>0.157831</td>\n",
       "    </tr>\n",
       "    <tr>\n",
       "      <th>20</th>\n",
       "      <td>Government - Hospital District or Authority</td>\n",
       "      <td>2022-10-07</td>\n",
       "      <td>0.092318</td>\n",
       "    </tr>\n",
       "    <tr>\n",
       "      <th>21</th>\n",
       "      <td>Government - Federal</td>\n",
       "      <td>2022-10-07</td>\n",
       "      <td>0.026913</td>\n",
       "    </tr>\n",
       "    <tr>\n",
       "      <th>22</th>\n",
       "      <td>Voluntary non-profit - Other</td>\n",
       "      <td>2022-10-07</td>\n",
       "      <td>0.087533</td>\n",
       "    </tr>\n",
       "    <tr>\n",
       "      <th>23</th>\n",
       "      <td>Physician</td>\n",
       "      <td>2022-10-07</td>\n",
       "      <td>0.111222</td>\n",
       "    </tr>\n",
       "    <tr>\n",
       "      <th>24</th>\n",
       "      <td>Voluntary non-profit - Private</td>\n",
       "      <td>2022-10-07</td>\n",
       "      <td>0.118485</td>\n",
       "    </tr>\n",
       "    <tr>\n",
       "      <th>25</th>\n",
       "      <td>Government - Local</td>\n",
       "      <td>2022-10-07</td>\n",
       "      <td>0.067990</td>\n",
       "    </tr>\n",
       "    <tr>\n",
       "      <th>26</th>\n",
       "      <td>Voluntary non-profit - Church</td>\n",
       "      <td>2022-10-07</td>\n",
       "      <td>0.087295</td>\n",
       "    </tr>\n",
       "    <tr>\n",
       "      <th>27</th>\n",
       "      <td>Physician</td>\n",
       "      <td>2022-09-30</td>\n",
       "      <td>0.119314</td>\n",
       "    </tr>\n",
       "    <tr>\n",
       "      <th>28</th>\n",
       "      <td>Government - State</td>\n",
       "      <td>2022-09-30</td>\n",
       "      <td>0.156746</td>\n",
       "    </tr>\n",
       "    <tr>\n",
       "      <th>29</th>\n",
       "      <td>Government - Federal</td>\n",
       "      <td>2022-09-30</td>\n",
       "      <td>NaN</td>\n",
       "    </tr>\n",
       "    <tr>\n",
       "      <th>30</th>\n",
       "      <td>Voluntary non-profit - Other</td>\n",
       "      <td>2022-09-30</td>\n",
       "      <td>0.086138</td>\n",
       "    </tr>\n",
       "    <tr>\n",
       "      <th>31</th>\n",
       "      <td>Government - Local</td>\n",
       "      <td>2022-09-30</td>\n",
       "      <td>0.068342</td>\n",
       "    </tr>\n",
       "    <tr>\n",
       "      <th>32</th>\n",
       "      <td>Voluntary non-profit - Church</td>\n",
       "      <td>2022-09-30</td>\n",
       "      <td>0.084805</td>\n",
       "    </tr>\n",
       "    <tr>\n",
       "      <th>33</th>\n",
       "      <td>Proprietary</td>\n",
       "      <td>2022-09-30</td>\n",
       "      <td>0.099054</td>\n",
       "    </tr>\n",
       "    <tr>\n",
       "      <th>34</th>\n",
       "      <td>Voluntary non-profit - Private</td>\n",
       "      <td>2022-09-30</td>\n",
       "      <td>0.117140</td>\n",
       "    </tr>\n",
       "    <tr>\n",
       "      <th>35</th>\n",
       "      <td>Government - Hospital District or Authority</td>\n",
       "      <td>2022-09-30</td>\n",
       "      <td>0.088561</td>\n",
       "    </tr>\n",
       "    <tr>\n",
       "      <th>36</th>\n",
       "      <td>Voluntary non-profit - Private</td>\n",
       "      <td>2022-09-23</td>\n",
       "      <td>0.119415</td>\n",
       "    </tr>\n",
       "    <tr>\n",
       "      <th>37</th>\n",
       "      <td>Voluntary non-profit - Other</td>\n",
       "      <td>2022-09-23</td>\n",
       "      <td>0.082838</td>\n",
       "    </tr>\n",
       "    <tr>\n",
       "      <th>38</th>\n",
       "      <td>Government - Hospital District or Authority</td>\n",
       "      <td>2022-09-23</td>\n",
       "      <td>0.089701</td>\n",
       "    </tr>\n",
       "    <tr>\n",
       "      <th>39</th>\n",
       "      <td>Government - Federal</td>\n",
       "      <td>2022-09-23</td>\n",
       "      <td>0.026820</td>\n",
       "    </tr>\n",
       "    <tr>\n",
       "      <th>40</th>\n",
       "      <td>Physician</td>\n",
       "      <td>2022-09-23</td>\n",
       "      <td>0.145901</td>\n",
       "    </tr>\n",
       "    <tr>\n",
       "      <th>41</th>\n",
       "      <td>Government - Local</td>\n",
       "      <td>2022-09-23</td>\n",
       "      <td>0.073061</td>\n",
       "    </tr>\n",
       "    <tr>\n",
       "      <th>42</th>\n",
       "      <td>Voluntary non-profit - Church</td>\n",
       "      <td>2022-09-23</td>\n",
       "      <td>0.083559</td>\n",
       "    </tr>\n",
       "    <tr>\n",
       "      <th>43</th>\n",
       "      <td>Proprietary</td>\n",
       "      <td>2022-09-23</td>\n",
       "      <td>0.100050</td>\n",
       "    </tr>\n",
       "    <tr>\n",
       "      <th>44</th>\n",
       "      <td>Government - State</td>\n",
       "      <td>2022-09-23</td>\n",
       "      <td>0.153219</td>\n",
       "    </tr>\n",
       "  </tbody>\n",
       "</table>\n",
       "</div>"
      ],
      "text/plain": [
       "                             hospital_ownership collection_week  \\\n",
       "0                                     Physician      2022-10-21   \n",
       "1                Voluntary non-profit - Private      2022-10-21   \n",
       "2                                   Proprietary      2022-10-21   \n",
       "3                          Government - Federal      2022-10-21   \n",
       "4                            Government - Local      2022-10-21   \n",
       "5                 Voluntary non-profit - Church      2022-10-21   \n",
       "6                            Government - State      2022-10-21   \n",
       "7   Government - Hospital District or Authority      2022-10-21   \n",
       "8                  Voluntary non-profit - Other      2022-10-21   \n",
       "9                                   Proprietary      2022-10-14   \n",
       "10                Voluntary non-profit - Church      2022-10-14   \n",
       "11                           Government - Local      2022-10-14   \n",
       "12  Government - Hospital District or Authority      2022-10-14   \n",
       "13                                    Physician      2022-10-14   \n",
       "14                         Government - Federal      2022-10-14   \n",
       "15                 Voluntary non-profit - Other      2022-10-14   \n",
       "16                           Government - State      2022-10-14   \n",
       "17               Voluntary non-profit - Private      2022-10-14   \n",
       "18                                  Proprietary      2022-10-07   \n",
       "19                           Government - State      2022-10-07   \n",
       "20  Government - Hospital District or Authority      2022-10-07   \n",
       "21                         Government - Federal      2022-10-07   \n",
       "22                 Voluntary non-profit - Other      2022-10-07   \n",
       "23                                    Physician      2022-10-07   \n",
       "24               Voluntary non-profit - Private      2022-10-07   \n",
       "25                           Government - Local      2022-10-07   \n",
       "26                Voluntary non-profit - Church      2022-10-07   \n",
       "27                                    Physician      2022-09-30   \n",
       "28                           Government - State      2022-09-30   \n",
       "29                         Government - Federal      2022-09-30   \n",
       "30                 Voluntary non-profit - Other      2022-09-30   \n",
       "31                           Government - Local      2022-09-30   \n",
       "32                Voluntary non-profit - Church      2022-09-30   \n",
       "33                                  Proprietary      2022-09-30   \n",
       "34               Voluntary non-profit - Private      2022-09-30   \n",
       "35  Government - Hospital District or Authority      2022-09-30   \n",
       "36               Voluntary non-profit - Private      2022-09-23   \n",
       "37                 Voluntary non-profit - Other      2022-09-23   \n",
       "38  Government - Hospital District or Authority      2022-09-23   \n",
       "39                         Government - Federal      2022-09-23   \n",
       "40                                    Physician      2022-09-23   \n",
       "41                           Government - Local      2022-09-23   \n",
       "42                Voluntary non-profit - Church      2022-09-23   \n",
       "43                                  Proprietary      2022-09-23   \n",
       "44                           Government - State      2022-09-23   \n",
       "\n",
       "    all_beds_occupied_fraction  \n",
       "0                     0.124711  \n",
       "1                     0.125605  \n",
       "2                     0.102291  \n",
       "3                          NaN  \n",
       "4                     0.075838  \n",
       "5                     0.084230  \n",
       "6                     0.177721  \n",
       "7                     0.076652  \n",
       "8                     0.091657  \n",
       "9                     0.098150  \n",
       "10                    0.084958  \n",
       "11                    0.067473  \n",
       "12                    0.084045  \n",
       "13                    0.142274  \n",
       "14                    0.026820  \n",
       "15                    0.087934  \n",
       "16                    0.164778  \n",
       "17                    0.116866  \n",
       "18                    0.098995  \n",
       "19                    0.157831  \n",
       "20                    0.092318  \n",
       "21                    0.026913  \n",
       "22                    0.087533  \n",
       "23                    0.111222  \n",
       "24                    0.118485  \n",
       "25                    0.067990  \n",
       "26                    0.087295  \n",
       "27                    0.119314  \n",
       "28                    0.156746  \n",
       "29                         NaN  \n",
       "30                    0.086138  \n",
       "31                    0.068342  \n",
       "32                    0.084805  \n",
       "33                    0.099054  \n",
       "34                    0.117140  \n",
       "35                    0.088561  \n",
       "36                    0.119415  \n",
       "37                    0.082838  \n",
       "38                    0.089701  \n",
       "39                    0.026820  \n",
       "40                    0.145901  \n",
       "41                    0.073061  \n",
       "42                    0.083559  \n",
       "43                    0.100050  \n",
       "44                    0.153219  "
      ]
     },
     "execution_count": 66,
     "metadata": {},
     "output_type": "execute_result"
    }
   ],
   "source": [
    "import warnings\n",
    "warnings.filterwarnings('ignore')\n",
    "conn = psycopg.connect(\n",
    "        host=\"sculptor.stat.cmu.edu\", dbname=credentials.DB_USER,\n",
    "        user=credentials.DB_USER, password=credentials.DB_PASSWORD\"\n",
    "    )\n",
    "\n",
    "cur = conn.cursor()\n",
    "cur.execute(\"select Hospital_type_infor.hospital_ownership, \"\n",
    "\"collection_week, AVG((weekly_capacity_inform.all_adult_hospital_inpatient_bed_occupied_7_day_coverage \"\n",
    "\"+ weekly_capacity_inform.all_pediatric_inpatient_bed_occupied_7_day_avg) / \"\n",
    "\"(weekly_capacity_inform.all_adult_hospital_beds_7_day_avg + \"\n",
    "\"weekly_capacity_inform.all_pediatric_inpatient_beds_7_day_avg)) AS all_beds_occupied_fraction \" \n",
    "\"FROM weekly_capacity_inform \"\n",
    "\"JOIN hospital_type_infor ON weekly_capacity_inform.hospital_pk = hospital_type_infor.facility_ID \"\n",
    "\"AND weekly_capacity_inform.all_adult_hospital_inpatient_bed_occupied_7_day_coverage IS NOT NULL \"\n",
    "\"AND weekly_capacity_inform.all_adult_hospital_beds_7_day_avg > 0 \"\n",
    "\"AND weekly_capacity_inform.all_pediatric_inpatient_beds_7_day_avg > 0 \"\n",
    "\"WHERE collection_week <= %(week)s \"\n",
    "\"GROUP BY Hospital_type_infor.hospital_ownership, collection_week \"\n",
    "\"ORDER BY collection_week desc;\", {'week': week2})\n",
    "rows = cur.fetchall()\n",
    "my_table_7 = pd.DataFrame(rows)\n",
    "my_table_7 = my_table_7.rename(columns = {0: \"hospital_ownership\", 1: \"collection_week\", 2:\"all_beds_occupied_fraction\"})\n",
    "my_table_7['all_beds_occupied_fraction'] = my_table_7['all_beds_occupied_fraction'].astype(float)\n",
    "my_table_7"
   ]
  },
  {
   "cell_type": "markdown",
   "metadata": {},
   "source": [
    "* **Graph**"
   ]
  },
  {
   "cell_type": "code",
   "execution_count": 67,
   "metadata": {},
   "outputs": [
    {
     "data": {
      "image/png": "[encoded data removed]",
      "text/plain": [
       "<Figure size 1330.62x720 with 1 Axes>"
      ]
     },
     "metadata": {
      "needs_background": "light"
     },
     "output_type": "display_data"
    }
   ],
   "source": [
    "import seaborn as sns\n",
    "sns.catplot(data=my_table_7, y ='collection_week', x = 'all_beds_occupied_fraction', hue='hospital_ownership', kind = 'bar',\n",
    "            height=10, aspect=1.5)\n",
    "plt.show()"
   ]
  }
 ],
 "metadata": {
  "kernelspec": {
   "display_name": "Python 3.9.12 ('base')",
   "language": "python",
   "name": "python3"
  },
  "language_info": {
   "codemirror_mode": {
    "name": "ipython",
    "version": 3
   },
   "file_extension": ".py",
   "mimetype": "text/x-python",
   "name": "python",
   "nbconvert_exporter": "python",
   "pygments_lexer": "ipython3",
   "version": "3.9.12"
  },
  "orig_nbformat": 4,
  "vscode": {
   "interpreter": {
    "hash": "b6b917184071021104593bc899348849534a072a0228632a74eaa86e49d2c383"
   }
  }
 },
 "nbformat": 4,
 "nbformat_minor": 2
}
